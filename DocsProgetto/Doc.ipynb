{
 "cells": [
  {
   "cell_type": "markdown",
   "metadata": {
    "slideshow": {
     "slide_type": "slide"
    }
   },
   "source": [
    "### SpeechAnalyzer"
   ]
  },
  {
   "cell_type": "markdown",
   "metadata": {
    "slideshow": {
     "slide_type": "slide"
    }
   },
   "source": [
    "## Progetto Technologies for Advanced Programming 2019/2020\n",
    "\n",
    "- Aldo Fiorito X81000447\n",
    "- Francesco Petrosino X81000533\\\n",
    "Studenti presso Università di Catania cdl Informatica"
   ]
  },
  {
   "cell_type": "markdown",
   "metadata": {
    "slideshow": {
     "slide_type": "slide"
    }
   },
   "source": [
    "## Idea e scopo di SpeechAnalyzer\n",
    "L'idea è nata osservando una community di persone all'interno dell'applicativo VOIP per le chat vocali Discord.\\ La domanda principale posta è stata \"Chi è il più chiacchierone del gruppo?\""
   ]
  },
  {
   "cell_type": "markdown",
   "metadata": {
    "slideshow": {
     "slide_type": "subslide"
    }
   },
   "source": [
    "Bisogna fare prima una premessa ..."
   ]
  },
  {
   "cell_type": "markdown",
   "metadata": {
    "slideshow": {
     "slide_type": "subslide"
    }
   },
   "source": [
    "![](train.jpg)"
   ]
  },
  {
   "cell_type": "markdown",
   "metadata": {
    "slideshow": {
     "slide_type": "subslide"
    }
   },
   "source": [
    "## Da qui SpeechAnalyzer\n",
    "\n",
    "Fornisce statistiche e metriche su numerosi flussi vocali all'interno della propria rete"
   ]
  },
  {
   "cell_type": "markdown",
   "metadata": {
    "slideshow": {
     "slide_type": "slide"
    }
   },
   "source": [
    "## Architettura dell'applicativo"
   ]
  },
  {
   "cell_type": "markdown",
   "metadata": {
    "slideshow": {
     "slide_type": "subslide"
    }
   },
   "source": [
    "### In breve\n",
    "1. L'utente si registra all'applicativo\n",
    "2. Un file json costruito dal suo flusso vocale viene mandato a un kafka-producer, avente come topic un campo   specificato dall'user\n",
    "3. Spark , essendo anche kafka-consumer , processa ed elabora altre informazioni dal dato e costruisce un datafraframe attraverso sparksql \n",
    "4. La nuova struttura creata viene indicizzata su elasticsearch\n",
    "5. Kibana si occupa di ottenere le metriche e le statistiche dai dati indicizzati attraverso un'interfaccia user-end"
   ]
  },
  {
   "cell_type": "markdown",
   "metadata": {
    "slideshow": {
     "slide_type": "slide"
    }
   },
   "source": [
    "## Flusso operativo"
   ]
  },
  {
   "cell_type": "markdown",
   "metadata": {
    "slideshow": {
     "slide_type": "subslide"
    }
   },
   "source": [
    "L'utente,tramite una form, viene fatto registrare all'applicativo inserendo il proprio nome,la propria compagnia( che sarà il topic kafka) e la propria lingua d'appartenenza.\\\n",
    "**Perchè la lingua?**\n",
    "Perchè l'analizzatore riesce ad elaborare qualiasi lingua ( al momento le 5 principali ).\\\n",
    "Ogni input verrà tradotto nella stessa lingua"
   ]
  },
  {
   "cell_type": "markdown",
   "metadata": {
    "slideshow": {
     "slide_type": "subslide"
    }
   },
   "source": [
    "### PreProcessing del dato\n",
    "Un primo step di preprocessing dell'input vocale è quello di filtraggio del testo.\\\n",
    "Attraverso un file in locale di \"badwords\" verranno sostituite quelle parole considerate blasfeme o offensive\n",
    "Successivamente , il testo filtrato viene tradotto in inglese\n",
    "Il file json inviato al kafka-producer avrà questa struttura :\\\\ \n",
    "{\"name\":\"saro\" , \"message\" : \"hello guys\",\"topic\" : \"Tech\",\"language\" : \"en\",\"id\":\"75df85bf\"}\n",
    "\n",
    "Dove topic si riferisce al predict del Machine Learning"
   ]
  },
  {
   "cell_type": "code",
   "execution_count": null,
   "metadata": {
    "slideshow": {
     "slide_type": "subslide"
    }
   },
   "outputs": [],
   "source": []
  }
 ],
 "metadata": {
  "celltoolbar": "Slideshow",
  "kernelspec": {
   "display_name": "Python 2",
   "language": "python",
   "name": "python2"
  },
  "language_info": {
   "codemirror_mode": {
    "name": "ipython",
    "version": 2
   },
   "file_extension": ".py",
   "mimetype": "text/x-python",
   "name": "python",
   "nbconvert_exporter": "python",
   "pygments_lexer": "ipython2",
   "version": "2.7.17"
  }
 },
 "nbformat": 4,
 "nbformat_minor": 2
}
